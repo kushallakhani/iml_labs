{
 "cells": [
  {
   "cell_type": "markdown",
   "id": "8ec231c3",
   "metadata": {
    "_cell_guid": "b1076dfc-b9ad-4769-8c92-a6c4dae69d19",
    "_uuid": "8f2839f25d086af736a60e9eeb907d3b93b6e0e5",
    "papermill": {
     "duration": 0.004287,
     "end_time": "2023-10-24T10:17:59.323035",
     "exception": false,
     "start_time": "2023-10-24T10:17:59.318748",
     "status": "completed"
    },
    "tags": []
   },
   "source": [
    "### Practical 6:Write a Pandas program to implement following operation"
   ]
  },
  {
   "cell_type": "markdown",
   "id": "68cc5920",
   "metadata": {
    "papermill": {
     "duration": 0.005495,
     "end_time": "2023-10-24T10:17:59.332584",
     "exception": false,
     "start_time": "2023-10-24T10:17:59.327089",
     "status": "completed"
    },
    "tags": []
   },
   "source": [
    "### • to convert a NumPy array to a Pandas series"
   ]
  },
  {
   "cell_type": "code",
   "execution_count": 1,
   "id": "f54fdcdb",
   "metadata": {
    "execution": {
     "iopub.execute_input": "2023-10-24T10:17:59.342336Z",
     "iopub.status.busy": "2023-10-24T10:17:59.341843Z",
     "iopub.status.idle": "2023-10-24T10:17:59.790681Z",
     "shell.execute_reply": "2023-10-24T10:17:59.789583Z"
    },
    "papermill": {
     "duration": 0.456844,
     "end_time": "2023-10-24T10:17:59.793205",
     "exception": false,
     "start_time": "2023-10-24T10:17:59.336361",
     "status": "completed"
    },
    "tags": []
   },
   "outputs": [
    {
     "name": "stdout",
     "output_type": "stream",
     "text": [
      "NumPy Array - \n",
      " [1 2 3 4 5 6 7 8 9]\n"
     ]
    },
    {
     "data": {
      "text/plain": [
       "'Pandas Series - '"
      ]
     },
     "metadata": {},
     "output_type": "display_data"
    },
    {
     "data": {
      "text/plain": [
       "0    1\n",
       "1    2\n",
       "2    3\n",
       "3    4\n",
       "4    5\n",
       "5    6\n",
       "6    7\n",
       "7    8\n",
       "8    9\n",
       "dtype: int64"
      ]
     },
     "metadata": {},
     "output_type": "display_data"
    }
   ],
   "source": [
    "import numpy as np\n",
    "import pandas as pd\n",
    "\n",
    "arr = np.array([1,2,3,4,5,6,7,8,9])\n",
    "print(\"NumPy Array - \\n\",arr)\n",
    "\n",
    "sr = pd.Series(arr)\n",
    "display(\"Pandas Series - \",sr)"
   ]
  },
  {
   "cell_type": "markdown",
   "id": "8f7e72fc",
   "metadata": {
    "papermill": {
     "duration": 0.003859,
     "end_time": "2023-10-24T10:17:59.801263",
     "exception": false,
     "start_time": "2023-10-24T10:17:59.797404",
     "status": "completed"
    },
    "tags": []
   },
   "source": [
    "### • to convert the first column of a DataFrame as a Series"
   ]
  },
  {
   "cell_type": "code",
   "execution_count": 2,
   "id": "c698120d",
   "metadata": {
    "execution": {
     "iopub.execute_input": "2023-10-24T10:17:59.811405Z",
     "iopub.status.busy": "2023-10-24T10:17:59.810873Z",
     "iopub.status.idle": "2023-10-24T10:17:59.829766Z",
     "shell.execute_reply": "2023-10-24T10:17:59.827963Z"
    },
    "papermill": {
     "duration": 0.027041,
     "end_time": "2023-10-24T10:17:59.832467",
     "exception": false,
     "start_time": "2023-10-24T10:17:59.805426",
     "status": "completed"
    },
    "tags": []
   },
   "outputs": [
    {
     "name": "stdout",
     "output_type": "stream",
     "text": [
      "    ML  COA  WJP  MADA\n",
      "0  100   48   78   100\n",
      "1   75   54   58    58\n",
      "2   84   86   82    50\n",
      "3   85   95  100    89\n",
      "4   71   86   66    77\n",
      "5   91   90  100   100\n",
      "0    100\n",
      "1     75\n",
      "2     84\n",
      "3     85\n",
      "4     71\n",
      "5     91\n",
      "Name: ML, dtype: int64\n"
     ]
    }
   ],
   "source": [
    "data = {'ML': [100, 75, 84, 85, 71, 91], \n",
    "        'COA': [48, 54, 86, 95, 86, 90], \n",
    "        'WJP': [78, 58, 82, 100, 66, 100], \n",
    "        'MADA': [100, 58, 50, 89, 77, 100] }\n",
    "\n",
    "data_frame = pd.DataFrame(data = data)\n",
    "print(data_frame)\n",
    "\n",
    "print(data_frame.iloc[:,0])"
   ]
  },
  {
   "cell_type": "markdown",
   "id": "eb54d726",
   "metadata": {
    "papermill": {
     "duration": 0.004038,
     "end_time": "2023-10-24T10:17:59.840951",
     "exception": false,
     "start_time": "2023-10-24T10:17:59.836913",
     "status": "completed"
    },
    "tags": []
   },
   "source": [
    "### • to create the mean and standard deviation of the data of a given Series"
   ]
  },
  {
   "cell_type": "code",
   "execution_count": 3,
   "id": "b6a2facb",
   "metadata": {
    "execution": {
     "iopub.execute_input": "2023-10-24T10:17:59.851603Z",
     "iopub.status.busy": "2023-10-24T10:17:59.850739Z",
     "iopub.status.idle": "2023-10-24T10:17:59.862472Z",
     "shell.execute_reply": "2023-10-24T10:17:59.860967Z"
    },
    "papermill": {
     "duration": 0.019709,
     "end_time": "2023-10-24T10:17:59.864954",
     "exception": false,
     "start_time": "2023-10-24T10:17:59.845245",
     "status": "completed"
    },
    "tags": []
   },
   "outputs": [
    {
     "name": "stdout",
     "output_type": "stream",
     "text": [
      "Original Series : -  0    9\n",
      "1    6\n",
      "2    6\n",
      "3    4\n",
      "4    8\n",
      "5    6\n",
      "6    9\n",
      "7    4\n",
      "8    0\n",
      "9    5\n",
      "dtype: int64\n",
      "Mean Elements : -  5.7\n",
      "Standard Elements : -  2.7100635498903793\n"
     ]
    }
   ],
   "source": [
    "import numpy as np\n",
    "import pandas as pd\n",
    "s = pd.Series(data=[9,6,6,4,8,6,9,4,0,5])\n",
    "print(\"Original Series : - \",s)\n",
    "a = s.mean();\n",
    "print(\"Mean Elements : - \",a)\n",
    "\n",
    "b = s.std();\n",
    "print(\"Standard Elements : - \",b)"
   ]
  },
  {
   "cell_type": "markdown",
   "id": "6a770ad2",
   "metadata": {
    "papermill": {
     "duration": 0.004271,
     "end_time": "2023-10-24T10:17:59.873869",
     "exception": false,
     "start_time": "2023-10-24T10:17:59.869598",
     "status": "completed"
    },
    "tags": []
   },
   "source": [
    "### • to sort a given Series\n"
   ]
  },
  {
   "cell_type": "code",
   "execution_count": 4,
   "id": "3500e888",
   "metadata": {
    "execution": {
     "iopub.execute_input": "2023-10-24T10:17:59.884627Z",
     "iopub.status.busy": "2023-10-24T10:17:59.884251Z",
     "iopub.status.idle": "2023-10-24T10:17:59.895207Z",
     "shell.execute_reply": "2023-10-24T10:17:59.893908Z"
    },
    "papermill": {
     "duration": 0.019277,
     "end_time": "2023-10-24T10:17:59.897597",
     "exception": false,
     "start_time": "2023-10-24T10:17:59.878320",
     "status": "completed"
    },
    "tags": []
   },
   "outputs": [
    {
     "name": "stdout",
     "output_type": "stream",
     "text": [
      "0     9.5000\n",
      "1    16.8000\n",
      "2    22.7800\n",
      "3    20.1240\n",
      "4    18.1002\n",
      "dtype: float64\n",
      "0     9.5000\n",
      "1    16.8000\n",
      "4    18.1002\n",
      "3    20.1240\n",
      "2    22.7800\n",
      "dtype: float64\n"
     ]
    }
   ],
   "source": [
    "import pandas as pd\n",
    "str = pd.Series([9.5, 16.8, 22.78, 20.124, 18.1002])\n",
    "\n",
    "print(str)\n",
    "\n",
    "a = str.sort_values(ascending=True)\n",
    "print(a)"
   ]
  },
  {
   "cell_type": "code",
   "execution_count": null,
   "id": "b82c29fe",
   "metadata": {
    "papermill": {
     "duration": 0.004195,
     "end_time": "2023-10-24T10:17:59.906408",
     "exception": false,
     "start_time": "2023-10-24T10:17:59.902213",
     "status": "completed"
    },
    "tags": []
   },
   "outputs": [],
   "source": []
  }
 ],
 "metadata": {
  "kernelspec": {
   "display_name": "Python 3",
   "language": "python",
   "name": "python3"
  },
  "language_info": {
   "codemirror_mode": {
    "name": "ipython",
    "version": 3
   },
   "file_extension": ".py",
   "mimetype": "text/x-python",
   "name": "python",
   "nbconvert_exporter": "python",
   "pygments_lexer": "ipython3",
   "version": "3.10.12"
  },
  "papermill": {
   "default_parameters": {},
   "duration": 7.474103,
   "end_time": "2023-10-24T10:18:03.071513",
   "environment_variables": {},
   "exception": null,
   "input_path": "__notebook__.ipynb",
   "output_path": "__notebook__.ipynb",
   "parameters": {},
   "start_time": "2023-10-24T10:17:55.597410",
   "version": "2.4.0"
  }
 },
 "nbformat": 4,
 "nbformat_minor": 5
}
