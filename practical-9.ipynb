{
 "cells": [
  {
   "cell_type": "markdown",
   "id": "fe4ff720",
   "metadata": {
    "_cell_guid": "b1076dfc-b9ad-4769-8c92-a6c4dae69d19",
    "_uuid": "8f2839f25d086af736a60e9eeb907d3b93b6e0e5",
    "papermill": {
     "duration": 0.002099,
     "end_time": "2023-10-20T07:12:45.529941",
     "exception": false,
     "start_time": "2023-10-20T07:12:45.527842",
     "status": "completed"
    },
    "tags": []
   },
   "source": [
    "### Write a Pandas program to create a plot of Open, High, Low, Close, Adjusted Closing prices and Volume of given company between two specific dates.\n"
   ]
  },
  {
   "cell_type": "code",
   "execution_count": 1,
   "id": "561fde83",
   "metadata": {
    "execution": {
     "iopub.execute_input": "2023-10-20T07:12:45.535534Z",
     "iopub.status.busy": "2023-10-20T07:12:45.535134Z",
     "iopub.status.idle": "2023-10-20T07:12:46.297034Z",
     "shell.execute_reply": "2023-10-20T07:12:46.295892Z"
    },
    "papermill": {
     "duration": 0.768027,
     "end_time": "2023-10-20T07:12:46.299779",
     "exception": false,
     "start_time": "2023-10-20T07:12:45.531752",
     "status": "completed"
    },
    "tags": []
   },
   "outputs": [
    {
     "data": {
      "image/png": "[encoded data removed]",
      "text/plain": [
       "<Figure size 640x480 with 1 Axes>"
      ]
     },
     "metadata": {},
     "output_type": "display_data"
    }
   ],
   "source": [
    "#Name : Kushal V Lakhani\n",
    "#Enrollement : 216270307005\n",
    "import pandas as pd\n",
    "import matplotlib.pyplot as plt\n",
    "\n",
    "df = pd.read_csv('/kaggle/input/nifty50-stock-market-data/HEROMOTOCO.csv')\n",
    "\n",
    "stock_prices = df[0:8]\n",
    "\n",
    "plt.figure() \n",
    "\n",
    "up = stock_prices[stock_prices.Close >= stock_prices.Open] \n",
    "down = stock_prices[stock_prices.Close < stock_prices.Open] \n",
    "col1 = 'blue'\n",
    "col2 = 'green'\n",
    "width = .3\n",
    "width2 = .03\n",
    "plt.bar(up.index, up.Close-up.Open, width, bottom=up.Open, color=col1) \n",
    "plt.bar(up.index, up.High-up.Close, width2, bottom=up.Close, color=col1) \n",
    "plt.bar(up.index, up.Low-up.Open, width2, bottom=up.Open, color=col1) \n",
    "\n",
    "plt.bar(down.index, down.Close-down.Open, width, bottom=down.Open, color=col2) \n",
    "plt.bar(down.index, down.High-down.Open, width2, bottom=down.Open, color=col2) \n",
    "plt.bar(down.index, down.Low-down.Close, width2, bottom=down.Close, color=col2) \n",
    "\n",
    "plt.xticks(rotation=30, ha='right') \n",
    "\n",
    "plt.show() \n"
   ]
  },
  {
   "cell_type": "code",
   "execution_count": null,
   "id": "ad0328b9",
   "metadata": {
    "papermill": {
     "duration": 0.001801,
     "end_time": "2023-10-20T07:12:46.303967",
     "exception": false,
     "start_time": "2023-10-20T07:12:46.302166",
     "status": "completed"
    },
    "tags": []
   },
   "outputs": [],
   "source": []
  }
 ],
 "metadata": {
  "kernelspec": {
   "display_name": "Python 3",
   "language": "python",
   "name": "python3"
  },
  "language_info": {
   "codemirror_mode": {
    "name": "ipython",
    "version": 3
   },
   "file_extension": ".py",
   "mimetype": "text/x-python",
   "name": "python",
   "nbconvert_exporter": "python",
   "pygments_lexer": "ipython3",
   "version": "3.10.12"
  },
  "papermill": {
   "default_parameters": {},
   "duration": 4.805482,
   "end_time": "2023-10-20T07:12:46.828243",
   "environment_variables": {},
   "exception": null,
   "input_path": "__notebook__.ipynb",
   "output_path": "__notebook__.ipynb",
   "parameters": {},
   "start_time": "2023-10-20T07:12:42.022761",
   "version": "2.4.0"
  }
 },
 "nbformat": 4,
 "nbformat_minor": 5
}
