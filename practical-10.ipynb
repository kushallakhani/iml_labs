{
 "cells": [
  {
   "cell_type": "markdown",
   "id": "3108a915",
   "metadata": {
    "_cell_guid": "b1076dfc-b9ad-4769-8c92-a6c4dae69d19",
    "_uuid": "8f2839f25d086af736a60e9eeb907d3b93b6e0e5",
    "papermill": {
     "duration": 0.002105,
     "end_time": "2023-10-20T07:08:05.400082",
     "exception": false,
     "start_time": "2023-10-20T07:08:05.397977",
     "status": "completed"
    },
    "tags": []
   },
   "source": [
    "### to find and drop the missing values from the given dataset"
   ]
  },
  {
   "cell_type": "code",
   "execution_count": 1,
   "id": "6f0f2379",
   "metadata": {
    "execution": {
     "iopub.execute_input": "2023-10-20T07:08:05.405023Z",
     "iopub.status.busy": "2023-10-20T07:08:05.404694Z",
     "iopub.status.idle": "2023-10-20T07:08:05.845394Z",
     "shell.execute_reply": "2023-10-20T07:08:05.844285Z"
    },
    "papermill": {
     "duration": 0.44824,
     "end_time": "2023-10-20T07:08:05.850165",
     "exception": false,
     "start_time": "2023-10-20T07:08:05.401925",
     "status": "completed"
    },
    "tags": []
   },
   "outputs": [
    {
     "name": "stdout",
     "output_type": "stream",
     "text": [
      "            Date      Symbol Series  Prev Close     Open     High      Low  \\\n",
      "0     2008-05-26  BAJAJ-AUTO     EQ     2101.05   898.00   898.00   551.35   \n",
      "1     2008-05-27  BAJAJ-AUTO     EQ      604.75   624.70   639.00   580.30   \n",
      "2     2008-05-28  BAJAJ-AUTO     EQ      593.15   561.65   621.90   561.65   \n",
      "3     2008-05-29  BAJAJ-AUTO     EQ      608.15   619.40   619.40   576.00   \n",
      "4     2008-05-30  BAJAJ-AUTO     EQ      599.45   605.40   607.00   538.00   \n",
      "...          ...         ...    ...         ...      ...      ...      ...   \n",
      "3197  2021-04-26  BAJAJ-AUTO     EQ     3672.50  3682.20  3749.00  3676.00   \n",
      "3198  2021-04-27  BAJAJ-AUTO     EQ     3738.85  3738.85  3798.00  3727.20   \n",
      "3199  2021-04-28  BAJAJ-AUTO     EQ     3785.50  3810.05  3954.00  3807.00   \n",
      "3200  2021-04-29  BAJAJ-AUTO     EQ     3889.75  3943.00  3954.30  3807.10   \n",
      "3201  2021-04-30  BAJAJ-AUTO     EQ     3836.45  3805.00  3966.35  3800.00   \n",
      "\n",
      "         Last    Close     VWAP   Volume      Turnover   Trades  \\\n",
      "0      600.25   604.75   624.61  3972485  2.481245e+14      NaN   \n",
      "1      595.50   593.15   606.43  1751063  1.061901e+14      NaN   \n",
      "2      605.10   608.15   608.75  1652355  1.005877e+14      NaN   \n",
      "3      600.00   599.45   600.98   669269  4.022165e+13      NaN   \n",
      "4      576.25   571.70   565.55  1262117  7.137937e+13      NaN   \n",
      "...       ...      ...      ...      ...           ...      ...   \n",
      "3197  3739.00  3738.85  3719.79   480016  1.785560e+14  36835.0   \n",
      "3198  3795.00  3785.50  3764.89   518487  1.952048e+14  47765.0   \n",
      "3199  3887.15  3889.75  3909.99  1252958  4.899048e+14  78857.0   \n",
      "3200  3818.95  3836.45  3880.32  1335444  5.181950e+14  92106.0   \n",
      "3201  3827.00  3833.75  3869.17  1340273  5.185744e+14  79430.0   \n",
      "\n",
      "      Deliverable Volume  %Deliverble  \n",
      "0                1202933       0.3028  \n",
      "1                 369389       0.2110  \n",
      "2                 898602       0.5438  \n",
      "3                 449951       0.6723  \n",
      "4                 936432       0.7420  \n",
      "...                  ...          ...  \n",
      "3197              155563       0.3241  \n",
      "3198              140987       0.2719  \n",
      "3199              190766       0.1523  \n",
      "3200              168500       0.1262  \n",
      "3201              229768       0.1714  \n",
      "\n",
      "[3202 rows x 15 columns]\n",
      "\n",
      " \n",
      " \n",
      " \n",
      "       Date  Symbol  Series  Prev Close   Open   High    Low   Last  Close  \\\n",
      "0     False   False   False       False  False  False  False  False  False   \n",
      "1     False   False   False       False  False  False  False  False  False   \n",
      "2     False   False   False       False  False  False  False  False  False   \n",
      "3     False   False   False       False  False  False  False  False  False   \n",
      "4     False   False   False       False  False  False  False  False  False   \n",
      "...     ...     ...     ...         ...    ...    ...    ...    ...    ...   \n",
      "3197  False   False   False       False  False  False  False  False  False   \n",
      "3198  False   False   False       False  False  False  False  False  False   \n",
      "3199  False   False   False       False  False  False  False  False  False   \n",
      "3200  False   False   False       False  False  False  False  False  False   \n",
      "3201  False   False   False       False  False  False  False  False  False   \n",
      "\n",
      "       VWAP  Volume  Turnover  Trades  Deliverable Volume  %Deliverble  \n",
      "0     False   False     False    True               False        False  \n",
      "1     False   False     False    True               False        False  \n",
      "2     False   False     False    True               False        False  \n",
      "3     False   False     False    True               False        False  \n",
      "4     False   False     False    True               False        False  \n",
      "...     ...     ...       ...     ...                 ...          ...  \n",
      "3197  False   False     False   False               False        False  \n",
      "3198  False   False     False   False               False        False  \n",
      "3199  False   False     False   False               False        False  \n",
      "3200  False   False     False   False               False        False  \n",
      "3201  False   False     False   False               False        False  \n",
      "\n",
      "[3202 rows x 15 columns]\n",
      "\n",
      " \n",
      " \n",
      " \n",
      "            Date      Symbol Series  Prev Close     Open     High      Low  \\\n",
      "746   2011-06-01  BAJAJ-AUTO     EQ     1344.50  1346.20  1364.90  1325.00   \n",
      "747   2011-06-02  BAJAJ-AUTO     EQ     1335.60  1325.00  1374.80  1310.60   \n",
      "748   2011-06-03  BAJAJ-AUTO     EQ     1368.50  1375.00  1389.00  1367.15   \n",
      "749   2011-06-06  BAJAJ-AUTO     EQ     1375.80  1360.00  1368.90  1338.00   \n",
      "750   2011-06-07  BAJAJ-AUTO     EQ     1361.70  1360.00  1360.00  1339.40   \n",
      "...          ...         ...    ...         ...      ...      ...      ...   \n",
      "3197  2021-04-26  BAJAJ-AUTO     EQ     3672.50  3682.20  3749.00  3676.00   \n",
      "3198  2021-04-27  BAJAJ-AUTO     EQ     3738.85  3738.85  3798.00  3727.20   \n",
      "3199  2021-04-28  BAJAJ-AUTO     EQ     3785.50  3810.05  3954.00  3807.00   \n",
      "3200  2021-04-29  BAJAJ-AUTO     EQ     3889.75  3943.00  3954.30  3807.10   \n",
      "3201  2021-04-30  BAJAJ-AUTO     EQ     3836.45  3805.00  3966.35  3800.00   \n",
      "\n",
      "         Last    Close     VWAP   Volume      Turnover   Trades  \\\n",
      "746   1330.00  1335.60  1343.36   577275  7.754886e+13  19239.0   \n",
      "747   1368.00  1368.50  1355.41   669185  9.070191e+13  31943.0   \n",
      "748   1375.80  1375.80  1377.93   360138  4.962432e+13  47413.0   \n",
      "749   1358.75  1361.70  1353.24   214882  2.907864e+13  12530.0   \n",
      "750   1349.80  1350.05  1349.36   246553  3.326894e+13  10303.0   \n",
      "...       ...      ...      ...      ...           ...      ...   \n",
      "3197  3739.00  3738.85  3719.79   480016  1.785560e+14  36835.0   \n",
      "3198  3795.00  3785.50  3764.89   518487  1.952048e+14  47765.0   \n",
      "3199  3887.15  3889.75  3909.99  1252958  4.899048e+14  78857.0   \n",
      "3200  3818.95  3836.45  3880.32  1335444  5.181950e+14  92106.0   \n",
      "3201  3827.00  3833.75  3869.17  1340273  5.185744e+14  79430.0   \n",
      "\n",
      "      Deliverable Volume  %Deliverble  \n",
      "746               357565       0.6194  \n",
      "747               308672       0.4613  \n",
      "748               196713       0.5462  \n",
      "749               102078       0.4750  \n",
      "750               135761       0.5506  \n",
      "...                  ...          ...  \n",
      "3197              155563       0.3241  \n",
      "3198              140987       0.2719  \n",
      "3199              190766       0.1523  \n",
      "3200              168500       0.1262  \n",
      "3201              229768       0.1714  \n",
      "\n",
      "[2456 rows x 15 columns]\n"
     ]
    }
   ],
   "source": [
    "# Name : Kushal V Lakhani\n",
    "# Enrollment No : 216270307005\n",
    "\n",
    "import pandas as pd \n",
    "df = pd.read_csv('/kaggle/input/nifty50-stock-market-data/BAJAJ-AUTO.csv')\n",
    "missing = df.isna()\n",
    "df_clean = df.dropna(axis=0)\n",
    "print(df)\n",
    "print(\"\\n \\n \\n \")\n",
    "print(missing)\n",
    "print(\"\\n \\n \\n \")\n",
    "print(df_clean)"
   ]
  },
  {
   "cell_type": "markdown",
   "id": "927c4288",
   "metadata": {
    "papermill": {
     "duration": 0.001674,
     "end_time": "2023-10-20T07:08:05.853819",
     "exception": false,
     "start_time": "2023-10-20T07:08:05.852145",
     "status": "completed"
    },
    "tags": []
   },
   "source": [
    "###  to remove the duplicates from the given dataset"
   ]
  },
  {
   "cell_type": "code",
   "execution_count": 2,
   "id": "fddf8ccb",
   "metadata": {
    "execution": {
     "iopub.execute_input": "2023-10-20T07:08:05.859706Z",
     "iopub.status.busy": "2023-10-20T07:08:05.858798Z",
     "iopub.status.idle": "2023-10-20T07:08:05.874673Z",
     "shell.execute_reply": "2023-10-20T07:08:05.873075Z"
    },
    "papermill": {
     "duration": 0.021596,
     "end_time": "2023-10-20T07:08:05.877139",
     "exception": false,
     "start_time": "2023-10-20T07:08:05.855543",
     "status": "completed"
    },
    "tags": []
   },
   "outputs": [
    {
     "name": "stdout",
     "output_type": "stream",
     "text": [
      "Empty DataFrame\n",
      "Columns: [Date, Symbol, Series, Prev Close, Open, High, Low, Last, Close, VWAP, Volume, Turnover, Trades, Deliverable Volume, %Deliverble]\n",
      "Index: []\n",
      "\n",
      " \n",
      " \n",
      "\n",
      "Empty DataFrame\n",
      "Columns: [Date, Symbol, Series, Prev Close, Open, High, Low, Last, Close, VWAP, Volume, Turnover, Trades, Deliverable Volume, %Deliverble]\n",
      "Index: []\n"
     ]
    }
   ],
   "source": [
    "#Name : Kushal V Lakhani\n",
    "# Enrollment No: 216270307005\n",
    "import pandas as pd \n",
    "df = pd.read_csv('/kaggle/input/nifty50-stock-market-data/INFRATEL.csv')\n",
    "df_cleaned = df.drop_duplicates() \n",
    "print(df) \n",
    "print(\"\\n \\n \\n\") \n",
    "print(df_cleaned)"
   ]
  }
 ],
 "metadata": {
  "kernelspec": {
   "display_name": "Python 3",
   "language": "python",
   "name": "python3"
  },
  "language_info": {
   "codemirror_mode": {
    "name": "ipython",
    "version": 3
   },
   "file_extension": ".py",
   "mimetype": "text/x-python",
   "name": "python",
   "nbconvert_exporter": "python",
   "pygments_lexer": "ipython3",
   "version": "3.10.12"
  },
  "papermill": {
   "default_parameters": {},
   "duration": 4.111715,
   "end_time": "2023-10-20T07:08:06.298965",
   "environment_variables": {},
   "exception": null,
   "input_path": "__notebook__.ipynb",
   "output_path": "__notebook__.ipynb",
   "parameters": {},
   "start_time": "2023-10-20T07:08:02.187250",
   "version": "2.4.0"
  }
 },
 "nbformat": 4,
 "nbformat_minor": 5
}
